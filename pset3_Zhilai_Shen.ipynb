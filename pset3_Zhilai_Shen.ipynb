{
 "cells": [
  {
   "cell_type": "code",
   "execution_count": 1,
   "metadata": {},
   "outputs": [],
   "source": [
    "import numpy as np\n",
    "import random\n",
    "import matplotlib.pyplot as plt"
   ]
  },
  {
   "cell_type": "code",
   "execution_count": 2,
   "metadata": {
    "code_folding": [
     0
    ]
   },
   "outputs": [],
   "source": [
    "def update_groundtruth(wl,wr,previous_ground_truth,t):\n",
    "    #update the ground truth according to the noise and setup matrix\n",
    "    \n",
    "    #initialize current ground truth\n",
    "    current_ground_truth = [0]*3\n",
    "    r = 20\n",
    "    #assume the motor works under 4.8V\n",
    "    max_rate = 100*2*np.pi/60\n",
    "    #sample noise in angular speed by using the function numpy.random.normal\n",
    "    #which takes means and covariance as input and sample 1 output\n",
    "    nwl = np.random.normal(0, 0.05*max_rate,1)[0]\n",
    "    nwr = np.random.normal(0, 0.05*max_rate,1)[0]\n",
    "    \n",
    "    \n",
    "    #angle update\n",
    "    current_ground_truth[0] = previous_ground_truth[0] + (wr+nwr)*t*20/(85*(wr+nwr)/(wl+nwl-wr-nwr))\n",
    "    current_ground_truth[1] = previous_ground_truth[1] + (abs(wl+nwl+wr+nwr)/2 * np.cos(previous_ground_truth[0]) * t * r) *previous_ground_truth[0]\n",
    "    current_ground_truth[2] = previous_ground_truth[2] + (abs(wl+nwl+wr+nwr)/2 * np.sin(previous_ground_truth[0]) * t * r) *previous_ground_truth[0]\n",
    "    \n",
    "    if current_ground_truth[0] >= 2*np.pi:\n",
    "        current_ground_truth[0] -= 2*np.pi\n",
    "    \n",
    "    return current_ground_truth"
   ]
  },
  {
   "cell_type": "code",
   "execution_count": 3,
   "metadata": {
    "code_folding": [
     0
    ]
   },
   "outputs": [],
   "source": [
    "def time_update(previous_state_mean,previous_state_cov, t, wl, wr):  \n",
    "    \"\"\"\n",
    "    Each state is a 3*1 vector containing theta, x, and y\n",
    "    Each state covariance matrix is a matrix related to previous matrix and has dimenson of 3*3\n",
    "    \"\"\"\n",
    "    #check if the shape of input previous state mean vector is legal or not\n",
    "    #assert(np.shape(previous_state_mean) == (1,3))\n",
    "    #check if the shape of input previous state covariance matrix is leagl or not\n",
    "    #assert(np.shape(previous_state_cov) == (3,3)) \n",
    "        \n",
    "    ##setup\n",
    "    \n",
    "    #radius\n",
    "    r = 20 \n",
    "    #initialize new state list\n",
    "    new_state_mean = [0]*3\n",
    "    #max rate\n",
    "    max_rate = 100*2*np.pi/60\n",
    "    #input noise\n",
    "    #Since the noise are caused by the two wheels' angular speed, from the datasheet online, the corviance of the \n",
    "    #motor is 5%of the max rate\n",
    "    Q = np.identity(2) * (0.05*max_rate)**2\n",
    "    \n",
    "    \n",
    "    #initialize Ft 3*3\n",
    "    Ft = [[0 for _ in range(3)] for _ in range(3)]\n",
    "    #initialize Wt 3*2\n",
    "    Wt = [[0 for _ in range(2)] for _ in range(3)]\n",
    "    \n",
    "    \"\"\"Time Update\"\"\"\n",
    "    \n",
    "    #Setup Ft:\n",
    "    Ft[0][0] = 1\n",
    "    Ft[1][0] = - abs(wl+wr)/2 * np.sin(previous_state_mean[0]) * t * r\n",
    "    Ft[1][1] = 1\n",
    "    Ft[2][0] = abs(wl+wr)/2 * np.cos(previous_state_mean[0]) * t * r\n",
    "    Ft[2][2] = 1\n",
    "    \n",
    "    #Setup Wt\n",
    "    Wt[0][0] = t\n",
    "    Wt[0][1] = -t\n",
    "    Wt[1][0] = 0.5 * np.cos(previous_state_mean[0]) * t * r\n",
    "    Wt[1][1] = 0.5 * np.cos(previous_state_mean[0]) * t * r\n",
    "    Wt[2][0] = 0.5 * np.sin(previous_state_mean[0]) * t * r\n",
    "    Wt[2][1] = 0.5 * np.sin(previous_state_mean[0]) * t * r\n",
    "    \n",
    "    #theta, the angle respect to magnetic north\n",
    "    new_state_mean[0] = previous_state_mean[0]\n",
    "    #x position and y position update\n",
    "    new_state_mean[1] = previous_state_mean[1] + Ft[1][0] * previous_state_mean[0]\n",
    "    new_state_mean[2] = previous_state_mean[2] + Ft[2][0] * previous_state_mean[0]\n",
    "    \n",
    "    #covariance update\n",
    "    Ft = np.array(Ft)\n",
    "    Wt = np.array(Wt)\n",
    "    new_state_cov = np.dot(np.dot(Ft,previous_state_cov),np.transpose(Ft)) + np.dot(np.dot(Wt,Q),np.transpose(Wt))\n",
    "    return new_state_mean, new_state_cov"
   ]
  },
  {
   "cell_type": "code",
   "execution_count": 4,
   "metadata": {
    "code_folding": [
     0
    ]
   },
   "outputs": [],
   "source": [
    "def generate_observation(state_grd_trh):\n",
    "    \n",
    "    \"\"\"The state ground turht is coming from the updated ground truth, with a size of 3*1\"\"\"\n",
    "    #assert(np.shape(state_grd_trh) == (3,1))\n",
    "    \n",
    "    \"\"\"This function is aiming at generating a matrix describing the EKF matrix using in the observation update as well as\"\"\"\n",
    "    \"\"\"the observation ground truth which in real time should be received by the sensors and IMU\"\"\"\n",
    "    H = np.zeros((3,3))\n",
    "    H[2,0] = 1\n",
    "    y_grd_trh = np.zeros((3,))\n",
    "    y_grd_trh[0] = state_grd_trh[0]\n",
    "    x = state_grd_trh[1]\n",
    "    y = state_grd_trh[2]\n",
    "    if state_grd_trh[0] == 0:## point at north\n",
    "        y_grd_trh[1] = 500-y\n",
    "        y_grd_trh[2] = 750-x\n",
    "        H[0,2] = -1\n",
    "        H[1,1] = -1\n",
    "    elif state_grd_trh[0] == np.pi/2:\n",
    "        y_grd_trh[1] = 750 - x\n",
    "        y_grd_trh[2] = y\n",
    "        H[0,1] = -1\n",
    "        H[1,2] = 1\n",
    "    elif state_grd_trh[0] == np.pi:\n",
    "        y_grd_trh[1] = y\n",
    "        y_grd_trh[2] = x\n",
    "        H[0,2] = 1\n",
    "        H[1,1] = 1\n",
    "    elif state_grd_trh[0] == np.pi*3/2:\n",
    "        y_grd_trh[1] = x\n",
    "        y_grd_trh[2] = 500-y\n",
    "        H[0,1] = 1\n",
    "        H[1,2] = -1\n",
    "    else:\n",
    "        y_grd_trh = state_grd_trh\n",
    "        H[0,2] = 1\n",
    "        H[1,1] = 1\n",
    "    return y_grd_trh,H    "
   ]
  },
  {
   "cell_type": "code",
   "execution_count": 5,
   "metadata": {
    "code_folding": [
     0
    ]
   },
   "outputs": [],
   "source": [
    "def obs_update(previous_mean,previous_cov, t, wl, wr,H,y_grd_trh):\n",
    "    \"\"\"Observation Update\"\"\"\n",
    "    #setup observation covariance matrix\n",
    "    #according to the data sheet, the sensor has a total of 48mm standard \n",
    "    #deviation according to 3% ranging distance, 15mm voltage drift, and 30mm\n",
    "    #temperature drift. I will then just use the 3% ranging distance\n",
    "    #for IMU, the noise is 0.1 degree/sec in rms\n",
    "    R = np.identity(3) * (0.03*100)**2\n",
    "    R[2,2] = (0.1*np.pi/180 * t) **2\n",
    "    \n",
    "    #derive the kalman gain\n",
    "    Kt = np.dot(previous_cov,np.transpose(H))\n",
    "    temp = np.linalg.inv(np.dot(H,Kt) + R)\n",
    "    Kt = np.dot(Kt,temp)\n",
    "    \n",
    "    nxt_mean = previous_mean + np.dot(Kt, (y_grd_trh - np.dot(H,previous_mean)))\n",
    "    nxt_cov = previous_cov - np.dot(np.dot(Kt,H),previous_cov)\n",
    "    return nxt_mean,nxt_cov"
   ]
  },
  {
   "cell_type": "code",
   "execution_count": 6,
   "metadata": {
    "code_folding": [
     0
    ]
   },
   "outputs": [],
   "source": [
    "def state_estimator(previous_grd_trh, previous_state,previous_covariance,wl,wr,t):\n",
    "    new_grd_truth = update_groundtruth(wl,wr,previous_grd_trh,t)\n",
    "    new_mean, new_cov = time_update(previous_state,previous_covariance,t,wl,wr)\n",
    "    y_grd_trh, H = generate_observation(new_grd_truth)\n",
    "    new_mean, new_cov = obs_update(new_mean,new_cov,t,wl,wr,H,y_grd_trh)\n",
    "    return y_grd_trh, new_mean, new_cov"
   ]
  },
  {
   "cell_type": "code",
   "execution_count": 7,
   "metadata": {},
   "outputs": [],
   "source": [
    "\"\"\"\n",
    "if initial state is known\n",
    "\"\"\"\n",
    "y = []\n",
    "mean = []\n",
    "cov = []\n",
    "for i in range(100):\n",
    "    t = i/100\n",
    "    if i == 0:\n",
    "        y_grd_trh,new_mean,new_cov = state_estimator([np.pi*1/2,0,250],[np.pi*1/2,0,250],np.array([[0.1,0,0],[0,0.1,0],[0,0.1,1]]),1,1,t)\n",
    "        y.append(y_grd_trh)\n",
    "        mean.append(new_mean)\n",
    "        cov.append(new_cov)\n",
    "    else:\n",
    "        y_grd_trh,new_mean,new_cov = state_estimator(y_grd_trh,new_mean,new_cov,1,1,t)\n",
    "        y.append(y_grd_trh)\n",
    "        mean.append(new_mean)\n",
    "        cov.append(new_cov)\n",
    "        "
   ]
  },
  {
   "cell_type": "code",
   "execution_count": 8,
   "metadata": {},
   "outputs": [
    {
     "data": {
      "image/png": "[encoded data removed]",
      "text/plain": [
       "<matplotlib.figure.Figure at 0x19d26011dd8>"
      ]
     },
     "metadata": {},
     "output_type": "display_data"
    }
   ],
   "source": [
    "plt.plot(np.array(y)[:,2],np.array(y)[:,1])\n",
    "plt.plot(np.array(mean)[:,0],np.array(mean)[:,1])\n",
    "plt.show()"
   ]
  },
  {
   "cell_type": "code",
   "execution_count": 23,
   "metadata": {},
   "outputs": [],
   "source": [
    "\"\"\"\n",
    "if initial state is unknown\n",
    "\"\"\"\n",
    "y = []\n",
    "mean = []\n",
    "cov = []\n",
    "for i in range(100):\n",
    "    t = i/100\n",
    "    if i == 0:\n",
    "        y_grd_trh,new_mean,new_cov = state_estimator([np.pi*1/2,750/2,250],[np.pi*1/2,750/2,250],np.array([[1000,0,0],[0,1000,0],[0,0,1000]]),1,1,t)\n",
    "        y.append(y_grd_trh)\n",
    "        mean.append(new_mean)\n",
    "        cov.append(new_cov)\n",
    "    else:\n",
    "        y_grd_trh,new_mean,new_cov = state_estimator(y_grd_trh,new_mean,new_cov,1,1,t)\n",
    "        y.append(y_grd_trh)\n",
    "        mean.append(new_mean)\n",
    "        cov.append(new_cov)\n",
    "        "
   ]
  },
  {
   "cell_type": "code",
   "execution_count": 24,
   "metadata": {
    "scrolled": true
   },
   "outputs": [
    {
     "data": {
      "image/png": "[encoded data removed]",
      "text/plain": [
       "<matplotlib.figure.Figure at 0x19d26465a90>"
      ]
     },
     "metadata": {},
     "output_type": "display_data"
    }
   ],
   "source": [
    "plt.plot(np.flip(np.array(y)[:,2],0),np.flip(np.array(y)[:,1],0))\n",
    "plt.plot(np.flip(np.array(mean)[:,0],0),np.flip(np.array(mean)[:,1],0))\n",
    "plt.show()"
   ]
  },
  {
   "cell_type": "code",
   "execution_count": null,
   "metadata": {},
   "outputs": [],
   "source": []
  }
 ],
 "metadata": {
  "kernelspec": {
   "display_name": "Python 3",
   "language": "python",
   "name": "python3"
  },
  "language_info": {
   "codemirror_mode": {
    "name": "ipython",
    "version": 3
   },
   "file_extension": ".py",
   "mimetype": "text/x-python",
   "name": "python",
   "nbconvert_exporter": "python",
   "pygments_lexer": "ipython3",
   "version": "3.6.5"
  },
  "toc": {
   "base_numbering": 1,
   "nav_menu": {},
   "number_sections": true,
   "sideBar": true,
   "skip_h1_title": false,
   "title_cell": "Table of Contents",
   "title_sidebar": "Contents",
   "toc_cell": false,
   "toc_position": {},
   "toc_section_display": true,
   "toc_window_display": false
  }
 },
 "nbformat": 4,
 "nbformat_minor": 2
}
